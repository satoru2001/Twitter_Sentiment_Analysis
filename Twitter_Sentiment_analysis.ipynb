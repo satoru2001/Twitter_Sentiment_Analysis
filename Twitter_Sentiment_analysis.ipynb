{
  "nbformat": 4,
  "nbformat_minor": 0,
  "metadata": {
    "colab": {
      "name": "Twitter Sentiment analysis",
      "provenance": [],
      "collapsed_sections": [],
      "authorship_tag": "ABX9TyNlfZWLtgyFPhP3fPLpuMIz",
      "include_colab_link": true
    },
    "kernelspec": {
      "name": "python3",
      "display_name": "Python 3"
    },
    "accelerator": "GPU"
  },
  "cells": [
    {
      "cell_type": "markdown",
      "metadata": {
        "id": "view-in-github",
        "colab_type": "text"
      },
      "source": [
        "<a href=\"https://colab.research.google.com/github/satoru2001/Twitter_Sentiment_Analysis/blob/master/Twitter_Sentiment_analysis.ipynb\" target=\"_parent\"><img src=\"https://colab.research.google.com/assets/colab-badge.svg\" alt=\"Open In Colab\"/></a>"
      ]
    },
    {
      "cell_type": "markdown",
      "metadata": {
        "id": "-3sPa5dI-fm1",
        "colab_type": "text"
      },
      "source": [
        "# Import Data"
      ]
    },
    {
      "cell_type": "code",
      "metadata": {
        "id": "YZFjEZkXmutC",
        "colab_type": "code",
        "colab": {
          "base_uri": "https://localhost:8080/",
          "height": 233
        },
        "outputId": "643906eb-a05e-43ce-aef2-601fe10172e9"
      },
      "source": [
        "!wget --no-check-certificate \\\n",
        "    http://cs.stanford.edu/people/alecmgo/trainingandtestdata.zip \\\n",
        "    -O /tmp/SentimentAnalysis.zip"
      ],
      "execution_count": 44,
      "outputs": [
        {
          "output_type": "stream",
          "text": [
            "URL transformed to HTTPS due to an HSTS policy\n",
            "--2020-06-29 06:30:58--  https://cs.stanford.edu/people/alecmgo/trainingandtestdata.zip\n",
            "Resolving cs.stanford.edu (cs.stanford.edu)... 171.64.64.64\n",
            "Connecting to cs.stanford.edu (cs.stanford.edu)|171.64.64.64|:443... connected.\n",
            "HTTP request sent, awaiting response... 200 OK\n",
            "Length: 81363704 (78M) [application/zip]\n",
            "Saving to: ‘/tmp/SentimentAnalysis.zip’\n",
            "\n",
            "/tmp/SentimentAnaly 100%[===================>]  77.59M  19.2MB/s    in 4.8s    \n",
            "\n",
            "2020-06-29 06:31:04 (16.0 MB/s) - ‘/tmp/SentimentAnalysis.zip’ saved [81363704/81363704]\n",
            "\n"
          ],
          "name": "stdout"
        }
      ]
    },
    {
      "cell_type": "markdown",
      "metadata": {
        "id": "ofl2xrfD-mD4",
        "colab_type": "text"
      },
      "source": [
        "# Import Libraries"
      ]
    },
    {
      "cell_type": "code",
      "metadata": {
        "id": "c-l4u35emmmz",
        "colab_type": "code",
        "colab": {}
      },
      "source": [
        "import tensorflow as tf\n",
        "import pandas as pd\n",
        "import numpy as np\n",
        "import csv\n",
        "import random\n",
        "import matplotlib.pyplot as plt\n",
        "from bs4 import BeautifulSoup\n",
        "import re\n",
        "import os, sys, codecs,zipfile\n",
        "from tensorflow.keras.preprocessing.text import Tokenizer\n",
        "from tensorflow.keras.preprocessing.sequence import pad_sequences\n",
        "from tensorflow.keras.utils import to_categorical\n",
        "from tensorflow.keras import regularizers"
      ],
      "execution_count": 45,
      "outputs": []
    },
    {
      "cell_type": "markdown",
      "metadata": {
        "id": "UIYLaAdL-q6S",
        "colab_type": "text"
      },
      "source": [
        "# UnZip the File to /tmp"
      ]
    },
    {
      "cell_type": "code",
      "metadata": {
        "id": "STMTqdsIncUm",
        "colab_type": "code",
        "colab": {}
      },
      "source": [
        "local_ref = '/tmp/SentimentAnalysis.zip'\n",
        "zip_ref= zipfile.ZipFile(local_ref,'r')\n",
        "zip_ref.extractall('/tmp')\n",
        "zip_ref.close()"
      ],
      "execution_count": 46,
      "outputs": []
    },
    {
      "cell_type": "markdown",
      "metadata": {
        "id": "4tHWywv6-3XB",
        "colab_type": "text"
      },
      "source": [
        "# Stopwords\n",
        "- stop words are the words in a sentence which doesnot/have less impact on the sentiment of a sentence\n",
        "- I took it from [here](https://github.com/Yoast/YoastSEO.js/blob/develop/src/config/stopwords.js)"
      ]
    },
    {
      "cell_type": "code",
      "metadata": {
        "id": "rIpCVwZc9Sg-",
        "colab_type": "code",
        "colab": {}
      },
      "source": [
        "stopwords = [ \"a\", \"about\", \"above\", \"after\", \"again\", \"against\", \"all\", \"am\", \"an\", \"and\", \"any\", \"are\", \"as\", \"at\", \"be\", \"because\", \"been\", \"before\", \"being\", \"below\", \"between\", \"both\", \"but\", \"by\", \"could\", \"did\", \"do\", \"does\", \"doing\", \"down\", \"during\", \"each\", \"few\", \"for\", \"from\", \"further\", \"had\", \"has\", \"have\", \"having\", \"he\", \"he'd\", \"he'll\", \"he's\", \"her\", \"here\", \"here's\", \"hers\", \"herself\", \"him\", \"himself\", \"his\", \"how\", \"how's\", \"i\", \"i'd\", \"i'll\", \"i'm\", \"i've\", \"if\", \"in\", \"into\", \"is\", \"it\", \"it's\", \"its\", \"itself\", \"let's\", \"me\", \"more\", \"most\", \"my\", \"myself\", \"nor\", \"of\", \"on\", \"once\", \"only\", \"or\", \"other\", \"ought\", \"our\", \"ours\", \"ourselves\", \"out\", \"over\", \"own\", \"same\", \"she\", \"she'd\", \"she'll\", \"she's\", \"should\", \"so\", \"some\", \"such\", \"than\", \"that\", \"that's\", \"the\", \"their\", \"theirs\", \"them\", \"themselves\", \"then\", \"there\", \"there's\", \"these\", \"they\", \"they'd\", \"they'll\", \"they're\", \"they've\", \"this\", \"those\", \"through\", \"to\", \"too\", \"under\", \"until\", \"up\", \"very\", \"was\", \"we\", \"we'd\", \"we'll\", \"we're\", \"we've\", \"were\", \"what\", \"what's\", \"when\", \"when's\", \"where\", \"where's\", \"which\", \"while\", \"who\", \"who's\", \"whom\", \"why\", \"why's\", \"with\", \"would\", \"you\", \"you'd\", \"you'll\", \"you're\", \"you've\", \"your\", \"yours\", \"yourself\", \"yourselves\" ]"
      ],
      "execution_count": 47,
      "outputs": []
    },
    {
      "cell_type": "markdown",
      "metadata": {
        "id": "Lzzf9stSA4XQ",
        "colab_type": "text"
      },
      "source": [
        "# Reading data from csv"
      ]
    },
    {
      "cell_type": "code",
      "metadata": {
        "id": "iW_Qa8v0mtOp",
        "colab_type": "code",
        "colab": {
          "base_uri": "https://localhost:8080/",
          "height": 204
        },
        "outputId": "0de5cfec-e450-4c65-ed6d-57f53dcf579c"
      },
      "source": [
        "cols = ['sentiment','id','date','query_string','user','text']\n",
        "df = pd.read_csv('/tmp/training.1600000.processed.noemoticon.csv',header=None, names=cols,encoding = 'latin-1')\n",
        "df.head()"
      ],
      "execution_count": 48,
      "outputs": [
        {
          "output_type": "execute_result",
          "data": {
            "text/html": [
              "<div>\n",
              "<style scoped>\n",
              "    .dataframe tbody tr th:only-of-type {\n",
              "        vertical-align: middle;\n",
              "    }\n",
              "\n",
              "    .dataframe tbody tr th {\n",
              "        vertical-align: top;\n",
              "    }\n",
              "\n",
              "    .dataframe thead th {\n",
              "        text-align: right;\n",
              "    }\n",
              "</style>\n",
              "<table border=\"1\" class=\"dataframe\">\n",
              "  <thead>\n",
              "    <tr style=\"text-align: right;\">\n",
              "      <th></th>\n",
              "      <th>sentiment</th>\n",
              "      <th>id</th>\n",
              "      <th>date</th>\n",
              "      <th>query_string</th>\n",
              "      <th>user</th>\n",
              "      <th>text</th>\n",
              "    </tr>\n",
              "  </thead>\n",
              "  <tbody>\n",
              "    <tr>\n",
              "      <th>0</th>\n",
              "      <td>0</td>\n",
              "      <td>1467810369</td>\n",
              "      <td>Mon Apr 06 22:19:45 PDT 2009</td>\n",
              "      <td>NO_QUERY</td>\n",
              "      <td>_TheSpecialOne_</td>\n",
              "      <td>@switchfoot http://twitpic.com/2y1zl - Awww, t...</td>\n",
              "    </tr>\n",
              "    <tr>\n",
              "      <th>1</th>\n",
              "      <td>0</td>\n",
              "      <td>1467810672</td>\n",
              "      <td>Mon Apr 06 22:19:49 PDT 2009</td>\n",
              "      <td>NO_QUERY</td>\n",
              "      <td>scotthamilton</td>\n",
              "      <td>is upset that he can't update his Facebook by ...</td>\n",
              "    </tr>\n",
              "    <tr>\n",
              "      <th>2</th>\n",
              "      <td>0</td>\n",
              "      <td>1467810917</td>\n",
              "      <td>Mon Apr 06 22:19:53 PDT 2009</td>\n",
              "      <td>NO_QUERY</td>\n",
              "      <td>mattycus</td>\n",
              "      <td>@Kenichan I dived many times for the ball. Man...</td>\n",
              "    </tr>\n",
              "    <tr>\n",
              "      <th>3</th>\n",
              "      <td>0</td>\n",
              "      <td>1467811184</td>\n",
              "      <td>Mon Apr 06 22:19:57 PDT 2009</td>\n",
              "      <td>NO_QUERY</td>\n",
              "      <td>ElleCTF</td>\n",
              "      <td>my whole body feels itchy and like its on fire</td>\n",
              "    </tr>\n",
              "    <tr>\n",
              "      <th>4</th>\n",
              "      <td>0</td>\n",
              "      <td>1467811193</td>\n",
              "      <td>Mon Apr 06 22:19:57 PDT 2009</td>\n",
              "      <td>NO_QUERY</td>\n",
              "      <td>Karoli</td>\n",
              "      <td>@nationwideclass no, it's not behaving at all....</td>\n",
              "    </tr>\n",
              "  </tbody>\n",
              "</table>\n",
              "</div>"
            ],
            "text/plain": [
              "   sentiment  ...                                               text\n",
              "0          0  ...  @switchfoot http://twitpic.com/2y1zl - Awww, t...\n",
              "1          0  ...  is upset that he can't update his Facebook by ...\n",
              "2          0  ...  @Kenichan I dived many times for the ball. Man...\n",
              "3          0  ...    my whole body feels itchy and like its on fire \n",
              "4          0  ...  @nationwideclass no, it's not behaving at all....\n",
              "\n",
              "[5 rows x 6 columns]"
            ]
          },
          "metadata": {
            "tags": []
          },
          "execution_count": 48
        }
      ]
    },
    {
      "cell_type": "markdown",
      "metadata": {
        "id": "6cKavBraA8r6",
        "colab_type": "text"
      },
      "source": [
        "# Dropping unwanted Columns"
      ]
    },
    {
      "cell_type": "code",
      "metadata": {
        "id": "tu8aq1Dx1LG_",
        "colab_type": "code",
        "colab": {
          "base_uri": "https://localhost:8080/",
          "height": 179
        },
        "outputId": "c25c3a63-f528-48ff-d6a5-36a65b0215c1"
      },
      "source": [
        "df.drop(['id','date','query_string','user'],axis =1,inplace=True)\n",
        "print(df.head())\n",
        "df.sentiment.value_counts()"
      ],
      "execution_count": 49,
      "outputs": [
        {
          "output_type": "stream",
          "text": [
            "   sentiment                                               text\n",
            "0          0  @switchfoot http://twitpic.com/2y1zl - Awww, t...\n",
            "1          0  is upset that he can't update his Facebook by ...\n",
            "2          0  @Kenichan I dived many times for the ball. Man...\n",
            "3          0    my whole body feels itchy and like its on fire \n",
            "4          0  @nationwideclass no, it's not behaving at all....\n"
          ],
          "name": "stdout"
        },
        {
          "output_type": "execute_result",
          "data": {
            "text/plain": [
              "4    800000\n",
              "0    800000\n",
              "Name: sentiment, dtype: int64"
            ]
          },
          "metadata": {
            "tags": []
          },
          "execution_count": 49
        }
      ]
    },
    {
      "cell_type": "code",
      "metadata": {
        "id": "CeE8FT5K20ij",
        "colab_type": "code",
        "colab": {
          "base_uri": "https://localhost:8080/",
          "height": 204
        },
        "outputId": "60537740-daf5-4ced-87ef-f3116531e70e"
      },
      "source": [
        "df[df.sentiment==4].head()"
      ],
      "execution_count": 50,
      "outputs": [
        {
          "output_type": "execute_result",
          "data": {
            "text/html": [
              "<div>\n",
              "<style scoped>\n",
              "    .dataframe tbody tr th:only-of-type {\n",
              "        vertical-align: middle;\n",
              "    }\n",
              "\n",
              "    .dataframe tbody tr th {\n",
              "        vertical-align: top;\n",
              "    }\n",
              "\n",
              "    .dataframe thead th {\n",
              "        text-align: right;\n",
              "    }\n",
              "</style>\n",
              "<table border=\"1\" class=\"dataframe\">\n",
              "  <thead>\n",
              "    <tr style=\"text-align: right;\">\n",
              "      <th></th>\n",
              "      <th>sentiment</th>\n",
              "      <th>text</th>\n",
              "    </tr>\n",
              "  </thead>\n",
              "  <tbody>\n",
              "    <tr>\n",
              "      <th>800000</th>\n",
              "      <td>4</td>\n",
              "      <td>I LOVE @Health4UandPets u guys r the best!!</td>\n",
              "    </tr>\n",
              "    <tr>\n",
              "      <th>800001</th>\n",
              "      <td>4</td>\n",
              "      <td>im meeting up with one of my besties tonight! ...</td>\n",
              "    </tr>\n",
              "    <tr>\n",
              "      <th>800002</th>\n",
              "      <td>4</td>\n",
              "      <td>@DaRealSunisaKim Thanks for the Twitter add, S...</td>\n",
              "    </tr>\n",
              "    <tr>\n",
              "      <th>800003</th>\n",
              "      <td>4</td>\n",
              "      <td>Being sick can be really cheap when it hurts t...</td>\n",
              "    </tr>\n",
              "    <tr>\n",
              "      <th>800004</th>\n",
              "      <td>4</td>\n",
              "      <td>@LovesBrooklyn2 he has that effect on everyone</td>\n",
              "    </tr>\n",
              "  </tbody>\n",
              "</table>\n",
              "</div>"
            ],
            "text/plain": [
              "        sentiment                                               text\n",
              "800000          4       I LOVE @Health4UandPets u guys r the best!! \n",
              "800001          4  im meeting up with one of my besties tonight! ...\n",
              "800002          4  @DaRealSunisaKim Thanks for the Twitter add, S...\n",
              "800003          4  Being sick can be really cheap when it hurts t...\n",
              "800004          4    @LovesBrooklyn2 he has that effect on everyone "
            ]
          },
          "metadata": {
            "tags": []
          },
          "execution_count": 50
        }
      ]
    },
    {
      "cell_type": "markdown",
      "metadata": {
        "id": "-MZ7OMYVBLFU",
        "colab_type": "text"
      },
      "source": [
        "# Checking the Length's of Sentences\n",
        "- as twitter has a charecter limit of 140(during this data set) getting >350 means we need to clean data"
      ]
    },
    {
      "cell_type": "code",
      "metadata": {
        "id": "rI_olHD323TR",
        "colab_type": "code",
        "colab": {
          "base_uri": "https://localhost:8080/",
          "height": 320
        },
        "outputId": "1301ff65-13d2-4cf0-eea1-30830903c5c7"
      },
      "source": [
        "df['pre_clean_length'] = [len(txt) for txt in df.text]\n",
        "fig, ax = plt.subplots(figsize=(5, 5))\n",
        "plt.boxplot(df.pre_clean_length)\n",
        "plt.show()"
      ],
      "execution_count": 51,
      "outputs": [
        {
          "output_type": "display_data",
          "data": {
            "image/png": "[encoded data removed]",
            "text/plain": [
              "<Figure size 360x360 with 1 Axes>"
            ]
          },
          "metadata": {
            "tags": [],
            "needs_background": "light"
          }
        }
      ]
    },
    {
      "cell_type": "markdown",
      "metadata": {
        "id": "5TxGdS71BgMN",
        "colab_type": "text"
      },
      "source": [
        "# Lets See the Data that has charecter_length > 140 "
      ]
    },
    {
      "cell_type": "code",
      "metadata": {
        "id": "873twITZ4Z5W",
        "colab_type": "code",
        "colab": {
          "base_uri": "https://localhost:8080/",
          "height": 419
        },
        "outputId": "4f953807-e89b-44ec-d1ed-c5f8b8578f1e"
      },
      "source": [
        "df[df.pre_clean_length>140]"
      ],
      "execution_count": 52,
      "outputs": [
        {
          "output_type": "execute_result",
          "data": {
            "text/html": [
              "<div>\n",
              "<style scoped>\n",
              "    .dataframe tbody tr th:only-of-type {\n",
              "        vertical-align: middle;\n",
              "    }\n",
              "\n",
              "    .dataframe tbody tr th {\n",
              "        vertical-align: top;\n",
              "    }\n",
              "\n",
              "    .dataframe thead th {\n",
              "        text-align: right;\n",
              "    }\n",
              "</style>\n",
              "<table border=\"1\" class=\"dataframe\">\n",
              "  <thead>\n",
              "    <tr style=\"text-align: right;\">\n",
              "      <th></th>\n",
              "      <th>sentiment</th>\n",
              "      <th>text</th>\n",
              "      <th>pre_clean_length</th>\n",
              "    </tr>\n",
              "  </thead>\n",
              "  <tbody>\n",
              "    <tr>\n",
              "      <th>213</th>\n",
              "      <td>0</td>\n",
              "      <td>Awwh babs... you look so sad underneith that s...</td>\n",
              "      <td>142</td>\n",
              "    </tr>\n",
              "    <tr>\n",
              "      <th>226</th>\n",
              "      <td>0</td>\n",
              "      <td>Tuesdayï¿½ll start with reflection ï¿½n then a...</td>\n",
              "      <td>141</td>\n",
              "    </tr>\n",
              "    <tr>\n",
              "      <th>279</th>\n",
              "      <td>0</td>\n",
              "      <td>Whinging. My client&amp;amp;boss don't understand ...</td>\n",
              "      <td>145</td>\n",
              "    </tr>\n",
              "    <tr>\n",
              "      <th>343</th>\n",
              "      <td>0</td>\n",
              "      <td>@TheLeagueSF Not Fun &amp;amp; Furious? The new ma...</td>\n",
              "      <td>145</td>\n",
              "    </tr>\n",
              "    <tr>\n",
              "      <th>400</th>\n",
              "      <td>0</td>\n",
              "      <td>#3 woke up and was having an accident - &amp;quot;...</td>\n",
              "      <td>144</td>\n",
              "    </tr>\n",
              "    <tr>\n",
              "      <th>...</th>\n",
              "      <td>...</td>\n",
              "      <td>...</td>\n",
              "      <td>...</td>\n",
              "    </tr>\n",
              "    <tr>\n",
              "      <th>1599460</th>\n",
              "      <td>4</td>\n",
              "      <td>@aw16 I must have skipped the &amp;quot;pun&amp;quot; ...</td>\n",
              "      <td>157</td>\n",
              "    </tr>\n",
              "    <tr>\n",
              "      <th>1599557</th>\n",
              "      <td>4</td>\n",
              "      <td>@chinkchilla there's this brilliant add-on for...</td>\n",
              "      <td>146</td>\n",
              "    </tr>\n",
              "    <tr>\n",
              "      <th>1599835</th>\n",
              "      <td>4</td>\n",
              "      <td>@alexandervelky that's polite version - i only...</td>\n",
              "      <td>145</td>\n",
              "    </tr>\n",
              "    <tr>\n",
              "      <th>1599921</th>\n",
              "      <td>4</td>\n",
              "      <td>I just switched back to Opera (using the moi s...</td>\n",
              "      <td>142</td>\n",
              "    </tr>\n",
              "    <tr>\n",
              "      <th>1599965</th>\n",
              "      <td>4</td>\n",
              "      <td>@stum450n Hi. Thanks for the follow. Nice webs...</td>\n",
              "      <td>141</td>\n",
              "    </tr>\n",
              "  </tbody>\n",
              "</table>\n",
              "<p>17174 rows × 3 columns</p>\n",
              "</div>"
            ],
            "text/plain": [
              "         sentiment  ... pre_clean_length\n",
              "213              0  ...              142\n",
              "226              0  ...              141\n",
              "279              0  ...              145\n",
              "343              0  ...              145\n",
              "400              0  ...              144\n",
              "...            ...  ...              ...\n",
              "1599460          4  ...              157\n",
              "1599557          4  ...              146\n",
              "1599835          4  ...              145\n",
              "1599921          4  ...              142\n",
              "1599965          4  ...              141\n",
              "\n",
              "[17174 rows x 3 columns]"
            ]
          },
          "metadata": {
            "tags": []
          },
          "execution_count": 52
        }
      ]
    },
    {
      "cell_type": "markdown",
      "metadata": {
        "id": "0v2pPcZwBwXZ",
        "colab_type": "text"
      },
      "source": [
        "# From here onwards we see the different cleaning techniques that we are going to apply on text\n",
        "\n",
        "## Cleaning the Html data like &quote -> ' "
      ]
    },
    {
      "cell_type": "code",
      "metadata": {
        "id": "cS_nVLjv8A7l",
        "colab_type": "code",
        "colab": {
          "base_uri": "https://localhost:8080/",
          "height": 53
        },
        "outputId": "54d95278-471e-4be5-93eb-22e6b5c71e08"
      },
      "source": [
        "print(df.text[213])\n",
        "html_cleaned = BeautifulSoup(df.text[213],'lxml')\n",
        "html_cleaned.get_text()"
      ],
      "execution_count": 53,
      "outputs": [
        {
          "output_type": "stream",
          "text": [
            "Awwh babs... you look so sad underneith that shop entrance of &quot;Yesterday's Musik&quot;  O-: I like the look of the new transformer movie \n"
          ],
          "name": "stdout"
        },
        {
          "output_type": "execute_result",
          "data": {
            "application/vnd.google.colaboratory.intrinsic": {
              "type": "string"
            },
            "text/plain": [
              "'Awwh babs... you look so sad underneith that shop entrance of \"Yesterday\\'s Musik\"  O-: I like the look of the new transformer movie '"
            ]
          },
          "metadata": {
            "tags": []
          },
          "execution_count": 53
        }
      ]
    },
    {
      "cell_type": "markdown",
      "metadata": {
        "id": "GwT7XNCODjoQ",
        "colab_type": "text"
      },
      "source": [
        "## Removing @usernames"
      ]
    },
    {
      "cell_type": "code",
      "metadata": {
        "id": "1G16Mbn4-HWT",
        "colab_type": "code",
        "colab": {
          "base_uri": "https://localhost:8080/",
          "height": 53
        },
        "outputId": "07f420db-5fbd-4fbb-ea97-ad5b70d3611e"
      },
      "source": [
        "print(df.text[343])\n",
        "re.sub(r'@[A-Za-z0-9]+','',df.text[343])"
      ],
      "execution_count": 54,
      "outputs": [
        {
          "output_type": "stream",
          "text": [
            "@TheLeagueSF Not Fun &amp; Furious? The new mantra for the Bay 2 Breakers? It was getting 2 rambunctious;the city overreacted &amp; clamped down \n"
          ],
          "name": "stdout"
        },
        {
          "output_type": "execute_result",
          "data": {
            "application/vnd.google.colaboratory.intrinsic": {
              "type": "string"
            },
            "text/plain": [
              "' Not Fun &amp; Furious? The new mantra for the Bay 2 Breakers? It was getting 2 rambunctious;the city overreacted &amp; clamped down '"
            ]
          },
          "metadata": {
            "tags": []
          },
          "execution_count": 54
        }
      ]
    },
    {
      "cell_type": "markdown",
      "metadata": {
        "id": "RaVSXhoaDpRr",
        "colab_type": "text"
      },
      "source": [
        "## Removing URL's"
      ]
    },
    {
      "cell_type": "code",
      "metadata": {
        "id": "4j2NsTHZ_Myx",
        "colab_type": "code",
        "colab": {
          "base_uri": "https://localhost:8080/",
          "height": 53
        },
        "outputId": "77a5115a-88d8-43da-be9e-f640dad84b1e"
      },
      "source": [
        "print(df.text[0])\n",
        "re.sub('https?://[A-Za-z0-9./]+','',df.text[0])"
      ],
      "execution_count": 55,
      "outputs": [
        {
          "output_type": "stream",
          "text": [
            "@switchfoot http://twitpic.com/2y1zl - Awww, that's a bummer.  You shoulda got David Carr of Third Day to do it. ;D\n"
          ],
          "name": "stdout"
        },
        {
          "output_type": "execute_result",
          "data": {
            "application/vnd.google.colaboratory.intrinsic": {
              "type": "string"
            },
            "text/plain": [
              "\"@switchfoot  - Awww, that's a bummer.  You shoulda got David Carr of Third Day to do it. ;D\""
            ]
          },
          "metadata": {
            "tags": []
          },
          "execution_count": 55
        }
      ]
    },
    {
      "cell_type": "markdown",
      "metadata": {
        "id": "WKo1PSL9Dxiy",
        "colab_type": "text"
      },
      "source": [
        "## Removing Bom's"
      ]
    },
    {
      "cell_type": "code",
      "metadata": {
        "id": "bpTk6qWR_rIW",
        "colab_type": "code",
        "colab": {}
      },
      "source": [
        "training = df.text[226]\n",
        "training = training.replace('ï¿½','')"
      ],
      "execution_count": 56,
      "outputs": []
    },
    {
      "cell_type": "code",
      "metadata": {
        "id": "arl9IgUKP0xP",
        "colab_type": "code",
        "colab": {
          "base_uri": "https://localhost:8080/",
          "height": 35
        },
        "outputId": "65dfa5bd-c282-4178-e4b2-053c6f7db017"
      },
      "source": [
        "print(training)"
      ],
      "execution_count": 57,
      "outputs": [
        {
          "output_type": "stream",
          "text": [
            "Tuesdayll start with reflection n then a lecture in Stress reducing techniques. That sure might become very useful for us accompaniers \n"
          ],
          "name": "stdout"
        }
      ]
    },
    {
      "cell_type": "markdown",
      "metadata": {
        "id": "BOltP0SRD5_x",
        "colab_type": "text"
      },
      "source": [
        "# Combining all the above cleaning layers with stop word remover"
      ]
    },
    {
      "cell_type": "code",
      "metadata": {
        "id": "DowgvdZPZ4PM",
        "colab_type": "code",
        "colab": {
          "base_uri": "https://localhost:8080/",
          "height": 1000
        },
        "outputId": "41015f36-359a-4e20-dd47-e76a1eb1baca"
      },
      "source": [
        "tokenizer = Tokenizer()\n",
        "def tweet_cleaner(t):\n",
        "  soup = BeautifulSoup(t,'lxml')\n",
        "  souped = soup.get_text()\n",
        "  clean_1 = re.sub(r' @[A-Za-z0-9]+ | https?://[A-Za-z0-9./]+','',souped)\n",
        "  try:\n",
        "    clean_2 = clean_1.replace('ï¿½','')\n",
        "  except:\n",
        "    clean_2 = clean_1\n",
        "  letters_only = re.sub(\"[^a-zA-Z]\",' ',clean_2)\n",
        "  lower_case = letters_only.lower()\n",
        "  final_clean = re.sub('\\s+',' ',lower_case)\n",
        "  final_result = ' '.join([word for word in final_clean.split() if word not in stopwords])\n",
        "  return final_result.strip()\n",
        "\n",
        "test_result = []\n",
        "testing = df.text[:100]\n",
        "for i in testing:\n",
        "  test_result.append(tweet_cleaner(i))\n",
        "test_result"
      ],
      "execution_count": 63,
      "outputs": [
        {
          "output_type": "execute_result",
          "data": {
            "text/plain": [
              "['switchfoot awww s bummer shoulda got david carr third day d',\n",
              " 'upset can t update facebook texting might cry result school today also blah',\n",
              " 'kenichan dived many times ball managed save rest go bounds',\n",
              " 'whole body feels itchy like fire',\n",
              " 'nationwideclass no s not behaving m mad can t see',\n",
              " 'kwesidei not whole crew',\n",
              " 'need hug',\n",
              " 'loltrish hey long time no see yes rains bit bit lol m fine thanks s',\n",
              " 'tatiana k nope didn t',\n",
              " 'twittera que muera',\n",
              " 'spring break plain city s snowing',\n",
              " 'just re pierced ears',\n",
              " 'caregiving couldn t bear watch thought ua loss embarrassing',\n",
              " 'octolinz counts idk either never talk anymore',\n",
              " 'smarrison ve first didn t gun not really though zac snyder s just doucheclown',\n",
              " 'iamjazzyfizzle wish got watch miss premiere',\n",
              " 'hollis death scene will hurt severely watch film wry directors cut not now',\n",
              " 'file taxes',\n",
              " 'lettya ahh ive always wanted see rent love soundtrack',\n",
              " 'fakerpattypattz oh dear drinking forgotten table drinks',\n",
              " 'alydesigns day didn t get much done',\n",
              " 'one friend called asked meet mid valley today ve no time sigh',\n",
              " 'angry barista baked cake ated',\n",
              " 'week not going hoped',\n",
              " 'blagh class tomorrow',\n",
              " 'hate call wake people',\n",
              " 'just going cry sleep watching marley',\n",
              " 'im sad now miss lilly',\n",
              " 'ooooh lol leslie ok won t leslie won t get mad',\n",
              " 'meh almost lover exception track gets depressed every time',\n",
              " 'hacked account aim now make new one',\n",
              " 'alielayus want go promote gear groove unfornately no ride may b going one anaheim may though',\n",
              " 'thought sleeping option tomorrow realizing now not evaluations morning work afternoon',\n",
              " 'julieebaby awe love miss',\n",
              " 'humpninja cry asian eyes sleep night',\n",
              " 'ok m sick spent hour sitting shower cause sick stand held back puke like champ bed now',\n",
              " 'cocomix ill tell ya story later not good day ill workin like three hours',\n",
              " 'missxu sorry bed time came gmt',\n",
              " 'fleurylis don t either depressing don t think even want know kids suitcases',\n",
              " 'bed class work gym class another day s gonna fly miss girlfriend',\n",
              " 'really don t feel like getting today got study tomorrows practical exam',\n",
              " 's reason teardrops guitar one enough break heart',\n",
              " 'sad sad sad don t know hate feeling wanna sleep still can t',\n",
              " 'jonathanrknight awww soo wish see finally comfortable im sad missed',\n",
              " 'falling asleep just heard tracy girl s body found sad heart breaks family',\n",
              " 'viennah yay m happy job also means less time',\n",
              " 'just checked user timeline blackberry looks like twanking still happening ppl still probs w bgs uids',\n",
              " 'oh man ironing jeancjumbe s fave top wear meeting burnt',\n",
              " 'strangely sad lilo samro breaking',\n",
              " 'tea oh m sorry didn t think retweeting',\n",
              " 'broadband plan massive broken promise via www diigo com tautao still waiting broadband',\n",
              " 'localtweeps wow tons replies may unfollow can see friends tweets re scrolling feed lot',\n",
              " 'duck chicken taking wayyy long hatch',\n",
              " 'put vacation photos online yrs ago pc crashed now forget name site',\n",
              " 'need hug',\n",
              " 'andywana not sure pos much want dont think can trade away company assets sorry andy',\n",
              " 'oanhlove hate happens',\n",
              " 'sad feeling dallas not going show gotta say though d think shows use music game mmm',\n",
              " 'ugh degrees tomorrow',\n",
              " 'u move thought u already sd hmmm random u found glad hear yer well',\n",
              " 'batmanyng miss ps s commission wutcha playing copped blood sand',\n",
              " 'just leaving parking lot work',\n",
              " 'life cool not',\n",
              " 'sadly though ve never gotten experience post coitus cigarette now never will',\n",
              " 'nice day bad rain comes tomorrow',\n",
              " 'starrbby bad won t around lost job can t even pay phone bill lmao aw shucks',\n",
              " 'damm back school tomorrow',\n",
              " 'mo jobs no money hell min wage f n clams hour',\n",
              " 'katortiz not forever see soon',\n",
              " 'lt algonquin agreed saw failwhale allllll day today',\n",
              " 'jdarter oh haha dude dont really look em unless someone says hey added sorry m terrible need pop',\n",
              " 'ninjen m sure re right need start working nikster jared least',\n",
              " 'really hate people diss bands trace clearly not ugly',\n",
              " 'gym attire today puma singlet adidas shorts black business socks leather shoes lucky not run cute girls',\n",
              " 'won t show location',\n",
              " 'no picnic phone smells like citrus',\n",
              " 'ashleyac donkey sensitive comments nevertheless d d glad see mug asap charger still awol',\n",
              " 'no new csi tonight fml',\n",
              " 'think arms sore tennis',\n",
              " 'wonders someone u like much can make unhappy split seccond depressed',\n",
              " 'sleep soon just hate saying bye see tomorrow night',\n",
              " 'statravelau just got ur newsletter fares really unbelievable shame already booked paid mine',\n",
              " 'missin boo',\n",
              " 'markhardy itm',\n",
              " 'damn don t chalk chalkboard useless',\n",
              " 'blast getty villa hates s sore throat day s just getting worse',\n",
              " 'msdrama hey missed ya meeting sup mama',\n",
              " 'tummy hurts wonder hypnosis anything s working get stop smoking',\n",
              " 'always fat ones',\n",
              " 'januarycrimson sorry babe fam annoys thankfully re asleep right now muahaha evil laugh',\n",
              " 'hollywoodheat paid attention covered photoshop webpage design class undergrad',\n",
              " 'wednesday b day don t know',\n",
              " 'poor cameron hills',\n",
              " 'pray please ex threatening start sh babies st birthday party jerk still headache',\n",
              " 'makeherfamous hmm u really enjoy problems constants u think things find someone ulike',\n",
              " 'strider sick little puppy',\n",
              " 'rylee grace wana go steve s party not sadly since easter wnt b able much ohh well',\n",
              " 'hey actually won one bracket pools bad wasn t one money',\n",
              " 'stark don t follow either work',\n",
              " 'bad nite favorite teams astros spartans lose nite t w good']"
            ]
          },
          "metadata": {
            "tags": []
          },
          "execution_count": 63
        }
      ]
    },
    {
      "cell_type": "markdown",
      "metadata": {
        "id": "3b6KcSK0Go2z",
        "colab_type": "text"
      },
      "source": [
        "# Applying the Cleaner filter to our Tweets\n",
        "## It will take ~10 minutes"
      ]
    },
    {
      "cell_type": "code",
      "metadata": {
        "id": "7BhUMuXfKUDQ",
        "colab_type": "code",
        "colab": {
          "base_uri": "https://localhost:8080/",
          "height": 1000
        },
        "outputId": "cb5ec6d5-3bbf-44e2-ce5a-b897be88c4e9"
      },
      "source": [
        "print(\"Cleaning and parsing the tweets..\\n\")\n",
        "clean_tweet_texts = []\n",
        "for i in range(len(df.text)):\n",
        "  clean_tweet_texts.append(tweet_cleaner(df.text[i]))\n",
        "  if (i%10000)==0:\n",
        "    print (str(i)+'Tweets Completed')"
      ],
      "execution_count": 64,
      "outputs": [
        {
          "output_type": "stream",
          "text": [
            "Cleaning and parsing the tweets..\n",
            "\n",
            "0Tweets Completed\n",
            "10000Tweets Completed\n",
            "20000Tweets Completed\n",
            "30000Tweets Completed\n",
            "40000Tweets Completed\n",
            "50000Tweets Completed\n",
            "60000Tweets Completed\n",
            "70000Tweets Completed\n",
            "80000Tweets Completed\n",
            "90000Tweets Completed\n",
            "100000Tweets Completed\n",
            "110000Tweets Completed\n",
            "120000Tweets Completed\n",
            "130000Tweets Completed\n",
            "140000Tweets Completed\n",
            "150000Tweets Completed\n",
            "160000Tweets Completed\n",
            "170000Tweets Completed\n",
            "180000Tweets Completed\n",
            "190000Tweets Completed\n",
            "200000Tweets Completed\n",
            "210000Tweets Completed\n",
            "220000Tweets Completed\n",
            "230000Tweets Completed\n",
            "240000Tweets Completed\n",
            "250000Tweets Completed\n",
            "260000Tweets Completed\n",
            "270000Tweets Completed\n",
            "280000Tweets Completed\n",
            "290000Tweets Completed\n",
            "300000Tweets Completed\n",
            "310000Tweets Completed\n",
            "320000Tweets Completed\n",
            "330000Tweets Completed\n",
            "340000Tweets Completed\n",
            "350000Tweets Completed\n",
            "360000Tweets Completed\n",
            "370000Tweets Completed\n",
            "380000Tweets Completed\n",
            "390000Tweets Completed\n",
            "400000Tweets Completed\n",
            "410000Tweets Completed\n",
            "420000Tweets Completed\n",
            "430000Tweets Completed\n",
            "440000Tweets Completed\n",
            "450000Tweets Completed\n",
            "460000Tweets Completed\n",
            "470000Tweets Completed\n",
            "480000Tweets Completed\n",
            "490000Tweets Completed\n",
            "500000Tweets Completed\n",
            "510000Tweets Completed\n",
            "520000Tweets Completed\n",
            "530000Tweets Completed\n",
            "540000Tweets Completed\n",
            "550000Tweets Completed\n",
            "560000Tweets Completed\n",
            "570000Tweets Completed\n",
            "580000Tweets Completed\n",
            "590000Tweets Completed\n",
            "600000Tweets Completed\n",
            "610000Tweets Completed\n",
            "620000Tweets Completed\n",
            "630000Tweets Completed\n",
            "640000Tweets Completed\n",
            "650000Tweets Completed\n",
            "660000Tweets Completed\n",
            "670000Tweets Completed\n",
            "680000Tweets Completed\n",
            "690000Tweets Completed\n",
            "700000Tweets Completed\n",
            "710000Tweets Completed\n",
            "720000Tweets Completed\n",
            "730000Tweets Completed\n",
            "740000Tweets Completed\n",
            "750000Tweets Completed\n",
            "760000Tweets Completed\n",
            "770000Tweets Completed\n",
            "780000Tweets Completed\n",
            "790000Tweets Completed\n",
            "800000Tweets Completed\n",
            "810000Tweets Completed\n",
            "820000Tweets Completed\n",
            "830000Tweets Completed\n",
            "840000Tweets Completed\n",
            "850000Tweets Completed\n",
            "860000Tweets Completed\n",
            "870000Tweets Completed\n",
            "880000Tweets Completed\n",
            "890000Tweets Completed\n",
            "900000Tweets Completed\n",
            "910000Tweets Completed\n",
            "920000Tweets Completed\n",
            "930000Tweets Completed\n",
            "940000Tweets Completed\n",
            "950000Tweets Completed\n",
            "960000Tweets Completed\n",
            "970000Tweets Completed\n",
            "980000Tweets Completed\n",
            "990000Tweets Completed\n",
            "1000000Tweets Completed\n",
            "1010000Tweets Completed\n",
            "1020000Tweets Completed\n",
            "1030000Tweets Completed\n",
            "1040000Tweets Completed\n",
            "1050000Tweets Completed\n",
            "1060000Tweets Completed\n",
            "1070000Tweets Completed\n",
            "1080000Tweets Completed\n",
            "1090000Tweets Completed\n",
            "1100000Tweets Completed\n",
            "1110000Tweets Completed\n",
            "1120000Tweets Completed\n",
            "1130000Tweets Completed\n",
            "1140000Tweets Completed\n",
            "1150000Tweets Completed\n",
            "1160000Tweets Completed\n",
            "1170000Tweets Completed\n",
            "1180000Tweets Completed\n",
            "1190000Tweets Completed\n",
            "1200000Tweets Completed\n",
            "1210000Tweets Completed\n",
            "1220000Tweets Completed\n",
            "1230000Tweets Completed\n",
            "1240000Tweets Completed\n",
            "1250000Tweets Completed\n",
            "1260000Tweets Completed\n",
            "1270000Tweets Completed\n",
            "1280000Tweets Completed\n",
            "1290000Tweets Completed\n",
            "1300000Tweets Completed\n",
            "1310000Tweets Completed\n",
            "1320000Tweets Completed\n",
            "1330000Tweets Completed\n",
            "1340000Tweets Completed\n",
            "1350000Tweets Completed\n",
            "1360000Tweets Completed\n",
            "1370000Tweets Completed\n",
            "1380000Tweets Completed\n",
            "1390000Tweets Completed\n",
            "1400000Tweets Completed\n",
            "1410000Tweets Completed\n",
            "1420000Tweets Completed\n",
            "1430000Tweets Completed\n",
            "1440000Tweets Completed\n",
            "1450000Tweets Completed\n",
            "1460000Tweets Completed\n",
            "1470000Tweets Completed\n",
            "1480000Tweets Completed\n",
            "1490000Tweets Completed\n",
            "1500000Tweets Completed\n",
            "1510000Tweets Completed\n",
            "1520000Tweets Completed\n",
            "1530000Tweets Completed\n",
            "1540000Tweets Completed\n",
            "1550000Tweets Completed\n",
            "1560000Tweets Completed\n",
            "1570000Tweets Completed\n",
            "1580000Tweets Completed\n",
            "1590000Tweets Completed\n"
          ],
          "name": "stdout"
        }
      ]
    },
    {
      "cell_type": "markdown",
      "metadata": {
        "id": "p-osEktOG2lS",
        "colab_type": "text"
      },
      "source": [
        "# Saving it to a .csv file for further use"
      ]
    },
    {
      "cell_type": "code",
      "metadata": {
        "id": "kZoge5jaNvoE",
        "colab_type": "code",
        "colab": {}
      },
      "source": [
        "clean_df = pd.DataFrame(clean_tweet_texts,columns=['text'])\n",
        "clean_df['value'] = df.sentiment\n",
        "clean_df.to_csv('clean_tweet.csv',encoding='utf-8')"
      ],
      "execution_count": 65,
      "outputs": []
    },
    {
      "cell_type": "markdown",
      "metadata": {
        "id": "pF1tVqHdsI0D",
        "colab_type": "text"
      },
      "source": [
        "# Designing and Training our model\n",
        "We load the pretrained Glove word Embeddings"
      ]
    },
    {
      "cell_type": "code",
      "metadata": {
        "id": "i0j8-YeFRgd4",
        "colab_type": "code",
        "colab": {
          "base_uri": "https://localhost:8080/",
          "height": 377
        },
        "outputId": "d1da10ba-27d4-428d-a67e-3076f404c0a5"
      },
      "source": [
        "!wget --no-check-certificate \\\n",
        "    http://nlp.stanford.edu/data/glove.twitter.27B.zip \\\n",
        "    -O /tmp/glove_twitter.zip"
      ],
      "execution_count": 66,
      "outputs": [
        {
          "output_type": "stream",
          "text": [
            "--2020-06-29 07:16:49--  http://nlp.stanford.edu/data/glove.twitter.27B.zip\n",
            "Resolving nlp.stanford.edu (nlp.stanford.edu)... 171.64.67.140\n",
            "Connecting to nlp.stanford.edu (nlp.stanford.edu)|171.64.67.140|:80... connected.\n",
            "HTTP request sent, awaiting response... 302 Found\n",
            "Location: https://nlp.stanford.edu/data/glove.twitter.27B.zip [following]\n",
            "--2020-06-29 07:16:49--  https://nlp.stanford.edu/data/glove.twitter.27B.zip\n",
            "Connecting to nlp.stanford.edu (nlp.stanford.edu)|171.64.67.140|:443... connected.\n",
            "HTTP request sent, awaiting response... 301 Moved Permanently\n",
            "Location: http://downloads.cs.stanford.edu/nlp/data/glove.twitter.27B.zip [following]\n",
            "--2020-06-29 07:16:49--  http://downloads.cs.stanford.edu/nlp/data/glove.twitter.27B.zip\n",
            "Resolving downloads.cs.stanford.edu (downloads.cs.stanford.edu)... 171.64.64.22\n",
            "Connecting to downloads.cs.stanford.edu (downloads.cs.stanford.edu)|171.64.64.22|:80... connected.\n",
            "HTTP request sent, awaiting response... 200 OK\n",
            "Length: 1520408563 (1.4G) [application/zip]\n",
            "Saving to: ‘/tmp/glove_twitter.zip’\n",
            "\n",
            "/tmp/glove_twitter. 100%[===================>]   1.42G  2.23MB/s    in 11m 43s \n",
            "\n",
            "2020-06-29 07:28:33 (2.06 MB/s) - ‘/tmp/glove_twitter.zip’ saved [1520408563/1520408563]\n",
            "\n"
          ],
          "name": "stdout"
        }
      ]
    },
    {
      "cell_type": "markdown",
      "metadata": {
        "id": "YhA66gV5HXC0",
        "colab_type": "text"
      },
      "source": [
        "# Unzipping"
      ]
    },
    {
      "cell_type": "code",
      "metadata": {
        "id": "gtJaTnIaUgVf",
        "colab_type": "code",
        "colab": {}
      },
      "source": [
        "loc_ref = '/tmp/glove_twitter.zip'\n",
        "zip_ref= zipfile.ZipFile(loc_ref,'r')\n",
        "zip_ref.extractall('/tmp')\n",
        "zip_ref.close()"
      ],
      "execution_count": 67,
      "outputs": []
    },
    {
      "cell_type": "markdown",
      "metadata": {
        "id": "0gzmBp1HHTqs",
        "colab_type": "text"
      },
      "source": [
        "# Defining Variables"
      ]
    },
    {
      "cell_type": "code",
      "metadata": {
        "id": "ukhMOxp8P3lK",
        "colab_type": "code",
        "colab": {}
      },
      "source": [
        "embedding_dim = 100\n",
        "max_len = 20\n",
        "trunc_type = 'post'\n",
        "padding_type = 'post'\n",
        "oov_token = \"<oov>\"\n",
        "test_portion = 0.1\n",
        "corpus = []\n",
        "num_sentences = 0"
      ],
      "execution_count": 68,
      "outputs": []
    },
    {
      "cell_type": "markdown",
      "metadata": {
        "id": "Rf7n0nXBHdNd",
        "colab_type": "text"
      },
      "source": [
        "# Reading from CSV we created above"
      ]
    },
    {
      "cell_type": "code",
      "metadata": {
        "id": "ulgDKGdikBOt",
        "colab_type": "code",
        "colab": {}
      },
      "source": [
        "with open('clean_tweet.csv') as csvfile:\n",
        "  reader = csv.reader(csvfile,delimiter=',')\n",
        "  next(reader)\n",
        "  for row in reader:\n",
        "    list_item = []\n",
        "    list_item.append(row[1])\n",
        "    if row[2]=='0':\n",
        "      list_item.append(0)\n",
        "    else:\n",
        "      list_item.append(1)\n",
        "    num_sentences+=1\n",
        "    corpus.append(list_item)\n"
      ],
      "execution_count": 69,
      "outputs": []
    },
    {
      "cell_type": "code",
      "metadata": {
        "id": "-vVeiyeokBRx",
        "colab_type": "code",
        "colab": {
          "base_uri": "https://localhost:8080/",
          "height": 71
        },
        "outputId": "ed212a37-b264-4e2f-86b5-331fa694b7c8"
      },
      "source": [
        "print(num_sentences)\n",
        "print(len(corpus))\n",
        "print(corpus[0])"
      ],
      "execution_count": 70,
      "outputs": [
        {
          "output_type": "stream",
          "text": [
            "1600000\n",
            "1600000\n",
            "['switchfoot awww s bummer shoulda got david carr third day d', 0]\n"
          ],
          "name": "stdout"
        }
      ]
    },
    {
      "cell_type": "markdown",
      "metadata": {
        "id": "C7nm407KHlJ-",
        "colab_type": "text"
      },
      "source": [
        "# Tokenizing,Splitting and saperating Sentences and labels"
      ]
    },
    {
      "cell_type": "code",
      "metadata": {
        "id": "m7PALOTlspSX",
        "colab_type": "code",
        "colab": {}
      },
      "source": [
        "sentences = []\n",
        "labels = []\n",
        "random.shuffle(corpus)\n",
        "for i in range(num_sentences):\n",
        "  sentences.append(corpus[i][0])\n",
        "  labels.append(corpus[i][1])\n",
        "\n",
        "tokenizer = Tokenizer()\n",
        "tokenizer.fit_on_texts(sentences)\n",
        "word_index = tokenizer.word_index\n",
        "vocab_size = len(word_index)\n",
        "\n",
        "sequences = tokenizer.texts_to_sequences(sentences)\n",
        "padding = pad_sequences(sequences,maxlen=max_len,padding = padding_type,truncating=trunc_type)\n",
        "\n",
        "split = int(num_sentences*test_portion)\n",
        "\n",
        "train_seq = padding[split:]\n",
        "train_label = labels[split:]\n",
        "\n",
        "test_seq = padding[:split]\n",
        "test_label = labels[:split]"
      ],
      "execution_count": 71,
      "outputs": []
    },
    {
      "cell_type": "code",
      "metadata": {
        "id": "UFFrnv5xvNcZ",
        "colab_type": "code",
        "colab": {
          "base_uri": "https://localhost:8080/",
          "height": 71
        },
        "outputId": "f17dacc7-7dbb-45e8-88a3-b2935624c7a8"
      },
      "source": [
        "print(vocab_size)\n",
        "print(word_index['shoulda'])\n",
        "print(len(test_label))"
      ],
      "execution_count": 72,
      "outputs": [
        {
          "output_type": "stream",
          "text": [
            "563359\n",
            "3422\n",
            "160000\n"
          ],
          "name": "stdout"
        }
      ]
    },
    {
      "cell_type": "markdown",
      "metadata": {
        "id": "HP3RhR7sIL3v",
        "colab_type": "text"
      },
      "source": [
        "# Extracting 100 dimension embedded matrix from Glove and creating a word,vector Dictionary"
      ]
    },
    {
      "cell_type": "code",
      "metadata": {
        "id": "r4qXVFnbcG-E",
        "colab_type": "code",
        "colab": {}
      },
      "source": [
        "embeddings_index = {}\n",
        "with open('/tmp/glove.twitter.27B.100d.txt') as f:\n",
        "  for line in f:\n",
        "    values = line.split()\n",
        "    word = values[0]\n",
        "    if word.isalpha():\n",
        "      embeddings_index[word] = np.array(values[1:],dtype='float32')"
      ],
      "execution_count": 73,
      "outputs": []
    },
    {
      "cell_type": "markdown",
      "metadata": {
        "id": "kvDp-LG5H6wR",
        "colab_type": "text"
      },
      "source": [
        "# Converting Tokanized sentences to embedded matrix"
      ]
    },
    {
      "cell_type": "code",
      "metadata": {
        "id": "hC-0idlNhETW",
        "colab_type": "code",
        "colab": {}
      },
      "source": [
        "embedding_matrix = np.zeros((vocab_size+1,embedding_dim))\n",
        "for word ,i in word_index.items():\n",
        "  embedding_vector = embeddings_index.get(word)\n",
        "  if embedding_vector is not None:\n",
        "    embedding_matrix[i] = embedding_vector"
      ],
      "execution_count": 74,
      "outputs": []
    },
    {
      "cell_type": "markdown",
      "metadata": {
        "id": "ax9mjvvaIICP",
        "colab_type": "text"
      },
      "source": [
        "# Model"
      ]
    },
    {
      "cell_type": "code",
      "metadata": {
        "id": "xlDIrdubwvgg",
        "colab_type": "code",
        "colab": {
          "base_uri": "https://localhost:8080/",
          "height": 935
        },
        "outputId": "a1661695-5dae-43a6-bc17-7641d741625d"
      },
      "source": [
        "model = tf.keras.Sequential([\n",
        "    tf.keras.layers.Embedding(vocab_size+1,embedding_dim,input_length=max_len,\n",
        "                                                       weights=[embedding_matrix],trainable=False),\n",
        "    tf.keras.layers.BatchNormalization(),\n",
        "    tf.keras.layers.Dropout(0.2),\n",
        "    tf.keras.layers.Conv1D(64,3,activation='relu'),\n",
        "    tf.keras.layers.MaxPooling1D(3),\n",
        "    tf.keras.layers.BatchNormalization(),\n",
        "    tf.keras.layers.Dropout(0.2),\n",
        "    tf.keras.layers.Conv1D(64,3,activation='relu'),\n",
        "    tf.keras.layers.MaxPooling1D(3),\n",
        "    tf.keras.layers.BatchNormalization(),\n",
        "    tf.keras.layers.Dropout(0.2),\n",
        "    tf.keras.layers.Bidirectional(tf.keras.layers.LSTM(64,return_sequences=True)),\n",
        "    tf.keras.layers.BatchNormalization(),\n",
        "    tf.keras.layers.Dropout(0.2),\n",
        "    tf.keras.layers.Bidirectional(tf.keras.layers.LSTM(64)),\n",
        "    tf.keras.layers.BatchNormalization(),\n",
        "    tf.keras.layers.Dropout(0.2),\n",
        "    tf.keras.layers.Dense(32,activation='relu'),\n",
        "    tf.keras.layers.BatchNormalization(),\n",
        "    tf.keras.layers.Dropout(0.2),\n",
        "    tf.keras.layers.Dense(1, activation='sigmoid')\n",
        "])\n",
        "print(model.summary())"
      ],
      "execution_count": 75,
      "outputs": [
        {
          "output_type": "stream",
          "text": [
            "Model: \"sequential_1\"\n",
            "_________________________________________________________________\n",
            "Layer (type)                 Output Shape              Param #   \n",
            "=================================================================\n",
            "embedding_1 (Embedding)      (None, 20, 100)           56336000  \n",
            "_________________________________________________________________\n",
            "batch_normalization_6 (Batch (None, 20, 100)           400       \n",
            "_________________________________________________________________\n",
            "dropout_6 (Dropout)          (None, 20, 100)           0         \n",
            "_________________________________________________________________\n",
            "conv1d_2 (Conv1D)            (None, 18, 64)            19264     \n",
            "_________________________________________________________________\n",
            "max_pooling1d_2 (MaxPooling1 (None, 6, 64)             0         \n",
            "_________________________________________________________________\n",
            "batch_normalization_7 (Batch (None, 6, 64)             256       \n",
            "_________________________________________________________________\n",
            "dropout_7 (Dropout)          (None, 6, 64)             0         \n",
            "_________________________________________________________________\n",
            "conv1d_3 (Conv1D)            (None, 4, 64)             12352     \n",
            "_________________________________________________________________\n",
            "max_pooling1d_3 (MaxPooling1 (None, 1, 64)             0         \n",
            "_________________________________________________________________\n",
            "batch_normalization_8 (Batch (None, 1, 64)             256       \n",
            "_________________________________________________________________\n",
            "dropout_8 (Dropout)          (None, 1, 64)             0         \n",
            "_________________________________________________________________\n",
            "bidirectional_2 (Bidirection (None, 1, 128)            66048     \n",
            "_________________________________________________________________\n",
            "batch_normalization_9 (Batch (None, 1, 128)            512       \n",
            "_________________________________________________________________\n",
            "dropout_9 (Dropout)          (None, 1, 128)            0         \n",
            "_________________________________________________________________\n",
            "bidirectional_3 (Bidirection (None, 128)               98816     \n",
            "_________________________________________________________________\n",
            "batch_normalization_10 (Batc (None, 128)               512       \n",
            "_________________________________________________________________\n",
            "dropout_10 (Dropout)         (None, 128)               0         \n",
            "_________________________________________________________________\n",
            "dense_2 (Dense)              (None, 32)                4128      \n",
            "_________________________________________________________________\n",
            "batch_normalization_11 (Batc (None, 32)                128       \n",
            "_________________________________________________________________\n",
            "dropout_11 (Dropout)         (None, 32)                0         \n",
            "_________________________________________________________________\n",
            "dense_3 (Dense)              (None, 1)                 33        \n",
            "=================================================================\n",
            "Total params: 56,538,705\n",
            "Trainable params: 201,673\n",
            "Non-trainable params: 56,337,032\n",
            "_________________________________________________________________\n",
            "None\n"
          ],
          "name": "stdout"
        }
      ]
    },
    {
      "cell_type": "code",
      "metadata": {
        "id": "bX8EjYUFyuLv",
        "colab_type": "code",
        "colab": {
          "base_uri": "https://localhost:8080/",
          "height": 197
        },
        "outputId": "960e051d-7d29-4c81-eac7-ee008eb1ee6c"
      },
      "source": [
        "from tensorflow.keras.backend import clear_session\n",
        "clear_session()\n",
        "train_sent = np.array(train_seq)\n",
        "train_lab = np.array(train_label)\n",
        "valid_sent = np.array(test_seq)\n",
        "valid_lab = np.array(test_label)\n",
        "model.compile(loss = 'binary_crossentropy',optimizer = 'adam',metrics=['accuracy'])\n",
        "num_epochs = 5\n",
        "history = model.fit(train_sent, train_lab, epochs=num_epochs, verbose=1,validation_data=(valid_sent,valid_lab))"
      ],
      "execution_count": 79,
      "outputs": [
        {
          "output_type": "stream",
          "text": [
            "Epoch 1/5\n",
            "45000/45000 [==============================] - 641s 14ms/step - loss: 0.5020 - accuracy: 0.7547 - val_loss: 0.4477 - val_accuracy: 0.7880\n",
            "Epoch 2/5\n",
            "45000/45000 [==============================] - 636s 14ms/step - loss: 0.4809 - accuracy: 0.7698 - val_loss: 0.4403 - val_accuracy: 0.7936\n",
            "Epoch 3/5\n",
            "45000/45000 [==============================] - 637s 14ms/step - loss: 0.4759 - accuracy: 0.7736 - val_loss: 0.4364 - val_accuracy: 0.7967\n",
            "Epoch 4/5\n",
            "45000/45000 [==============================] - 634s 14ms/step - loss: 0.4727 - accuracy: 0.7755 - val_loss: 0.4338 - val_accuracy: 0.7985\n",
            "Epoch 5/5\n",
            "45000/45000 [==============================] - 635s 14ms/step - loss: 0.4711 - accuracy: 0.7768 - val_loss: 0.4325 - val_accuracy: 0.7991\n"
          ],
          "name": "stdout"
        }
      ]
    },
    {
      "cell_type": "code",
      "metadata": {
        "id": "v7xqlt-u52Pt",
        "colab_type": "code",
        "colab": {
          "base_uri": "https://localhost:8080/",
          "height": 53
        },
        "outputId": "d212b601-22fd-4b1e-dce2-d03ae49113f7"
      },
      "source": [
        "model.evaluate(valid_sent,valid_lab)"
      ],
      "execution_count": 80,
      "outputs": [
        {
          "output_type": "stream",
          "text": [
            "5000/5000 [==============================] - 30s 6ms/step - loss: 0.4325 - accuracy: 0.7991\n"
          ],
          "name": "stdout"
        },
        {
          "output_type": "execute_result",
          "data": {
            "text/plain": [
              "[0.4324914515018463, 0.7990562319755554]"
            ]
          },
          "metadata": {
            "tags": []
          },
          "execution_count": 80
        }
      ]
    },
    {
      "cell_type": "markdown",
      "metadata": {
        "id": "HM4x92ehIzLZ",
        "colab_type": "text"
      },
      "source": [
        "# Plot the curves"
      ]
    },
    {
      "cell_type": "code",
      "metadata": {
        "id": "uUMfaHZvJP6B",
        "colab_type": "code",
        "colab": {
          "base_uri": "https://localhost:8080/",
          "height": 609
        },
        "outputId": "daf95dd8-68e8-41ea-e6dc-a75ba70befc5"
      },
      "source": [
        "acc = history.history['accuracy']\n",
        "val_acc = history.history['val_accuracy']\n",
        "loss = history.history['loss']\n",
        "val_loss = history.history['val_loss']\n",
        "epochs = range(len(acc))\n",
        "plt.plot(epochs, acc, 'r')\n",
        "plt.plot(epochs, val_acc, 'b')\n",
        "plt.title('Training and validation accuracy')\n",
        "plt.xlabel(\"Epochs\")\n",
        "plt.ylabel(\"Accuracy\")\n",
        "plt.legend([\"Accuracy\", \"Validation Accuracy\"])\n",
        "\n",
        "plt.figure()\n",
        "\n",
        "plt.plot(epochs, loss, 'r')\n",
        "plt.plot(epochs, val_loss, 'b')\n",
        "plt.title('Training and validation loss')\n",
        "plt.xlabel(\"Epochs\")\n",
        "plt.ylabel(\"Loss\")\n",
        "plt.legend([\"Loss\", \"Validation Loss\"])\n",
        "\n",
        "plt.figure()\n",
        "\n",
        "\n"
      ],
      "execution_count": 81,
      "outputs": [
        {
          "output_type": "execute_result",
          "data": {
            "text/plain": [
              "<Figure size 432x288 with 0 Axes>"
            ]
          },
          "metadata": {
            "tags": []
          },
          "execution_count": 81
        },
        {
          "output_type": "display_data",
          "data": {
            "image/png": "[encoded data removed]",
            "text/plain": [
              "<Figure size 432x288 with 1 Axes>"
            ]
          },
          "metadata": {
            "tags": [],
            "needs_background": "light"
          }
        },
        {
          "output_type": "display_data",
          "data": {
            "image/png": "[encoded data removed]",
            "text/plain": [
              "<Figure size 432x288 with 1 Axes>"
            ]
          },
          "metadata": {
            "tags": [],
            "needs_background": "light"
          }
        },
        {
          "output_type": "display_data",
          "data": {
            "text/plain": [
              "<Figure size 432x288 with 0 Axes>"
            ]
          },
          "metadata": {
            "tags": []
          }
        }
      ]
    },
    {
      "cell_type": "code",
      "metadata": {
        "id": "zNsrhQJCdGLF",
        "colab_type": "code",
        "colab": {
          "base_uri": "https://localhost:8080/",
          "height": 53
        },
        "outputId": "8aaf0cee-c884-434e-fcc8-dbed3b37b25f"
      },
      "source": [
        "y_pred = model.predict(valid_sent)\n",
        "y_pred = y_pred.flatten()\n",
        "for i in range(len(y_pred)):\n",
        "  if y_pred[i]>=0.5:\n",
        "    y_pred[i]=1\n",
        "  else:\n",
        "    y_pred[i]=0\n",
        "y_pred = np.array(y_pred,dtype = 'int')\n",
        "y_truth = valid_lab.flatten()\n",
        "print(y_pred[:10])\n",
        "print(y_truth[:10])"
      ],
      "execution_count": 95,
      "outputs": [
        {
          "output_type": "stream",
          "text": [
            "[0 1 1 0 1 1 0 1 1 0]\n",
            "[0 1 1 0 1 1 1 1 1 0]\n"
          ],
          "name": "stdout"
        }
      ]
    },
    {
      "cell_type": "markdown",
      "metadata": {
        "id": "CRasUNK5NOCX",
        "colab_type": "text"
      },
      "source": [
        "# Confusion Matrix"
      ]
    },
    {
      "cell_type": "code",
      "metadata": {
        "id": "CLEYNKEENNur",
        "colab_type": "code",
        "colab": {
          "base_uri": "https://localhost:8080/",
          "height": 89
        },
        "outputId": "e49f1a2c-84c0-4d66-f877-9d498489034a"
      },
      "source": [
        "from sklearn.metrics import classification_report, confusion_matrix,f1_score\n",
        "cnf_matrix = confusion_matrix(y_truth,y_pred)\n",
        "score = f1_score(y_truth,y_pred)\n",
        "print('Confusion Matrix:')\n",
        "print(cnf_matrix)\n",
        "print('F1 Score:'+str(score))"
      ],
      "execution_count": 96,
      "outputs": [
        {
          "output_type": "stream",
          "text": [
            "Confusion Matrix:\n",
            "[[65165 15009]\n",
            " [17142 62684]]\n",
            "F1 Score:0.7958912893047823\n"
          ],
          "name": "stdout"
        }
      ]
    },
    {
      "cell_type": "code",
      "metadata": {
        "id": "urDQXmSLdJmr",
        "colab_type": "code",
        "colab": {}
      },
      "source": [
        ""
      ],
      "execution_count": null,
      "outputs": []
    }
  ]
}